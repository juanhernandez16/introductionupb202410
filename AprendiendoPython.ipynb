{
  "nbformat": 4,
  "nbformat_minor": 0,
  "metadata": {
    "colab": {
      "provenance": [],
      "authorship_tag": "ABX9TyPPhzRCuFnJeYx3tIwz2zN6",
      "include_colab_link": true
    },
    "kernelspec": {
      "name": "python3",
      "display_name": "Python 3"
    },
    "language_info": {
      "name": "python"
    }
  },
  "cells": [
    {
      "cell_type": "markdown",
      "metadata": {
        "id": "view-in-github",
        "colab_type": "text"
      },
      "source": [
        "<a href=\"https://colab.research.google.com/github/juanhernandez16/introductionupb202410/blob/main/AprendiendoPython.ipynb\" target=\"_parent\"><img src=\"https://colab.research.google.com/assets/colab-badge.svg\" alt=\"Open In Colab\"/></a>"
      ]
    },
    {
      "cell_type": "markdown",
      "source": [
        "#introduccion a Python\n",
        "#Markdown\n",
        "##Fundamentos de programcion\n",
        "### Ingeniería Electrónica UPB Montería (202410)\n",
        "\n",
        "**Estudiante**\n",
        "\n",
        "*_email_*: juan.hernandez@up.edu.co\n",
        "\n",
        "`juan`\n",
        "\n",
        "```python\n",
        "a= 3\n",
        "b= 5\n",
        "c= a+b\n",
        "print (c)\n",
        "```\n",
        "\n",
        "### Salto de linea\n",
        "\n",
        "utilice `<br>` o `\\`\\\n",
        "<br/>\n",
        "y 3 asteriscos (`***`) para la linea horizontal\n",
        "***\n",
        "### Listas\n",
        "-ordenandas: con numeros\n",
        "-desordenandas: con `-` o `*`\n",
        "<br>\n",
        "Ejemplo:\n",
        "\n",
        "- leche\n",
        "\n",
        "- huevo\n",
        "\n",
        "  - carne\n",
        "\n",
        "1. pelar la papa\n",
        "2. cocinar la papa\n",
        "3. comer la papa\n",
        "\n",
        "### Enlaces (links)\n",
        "\n",
        "utilice `[texto](url)`\n",
        "\n",
        "[GITHUB](https://github.com/Mikheltodd/introductionupb202410)\n",
        "<br>\n",
        "LaTeX\n",
        "utilice el signo $\n",
        "\n",
        "ejemplo:\n",
        "\n",
        "la ecuacion que usa el voltaje $V$ en una resistencia $R$ con su corriente $I$ se conoce como la ley de Ohm:\n",
        "\n",
        "$$V=RI$$"
      ],
      "metadata": {
        "id": "fNH46F1YxfB3"
      }
    },
    {
      "cell_type": "code",
      "source": [
        "#Continuacion - operaciones con números\n",
        "\n",
        "#suma\n",
        "a=  3\n",
        "b= -4\n",
        "c= a + b\n",
        "print(a)\n",
        "\n",
        "#resta\n",
        "d= 5\n",
        "e= 7\n",
        "f= d - e\n",
        "print(a)\n",
        "\n",
        "#Multiplicacion\n",
        "a= b * c # reasignacion de variables\n",
        "print(a)\n",
        "\n",
        "# division\n",
        "a= b / a #division entera //\n",
        "print(a)\n",
        "\n",
        "#Modulo\n",
        "a= 6\n",
        "a= a % 2\n",
        "print(a)\n",
        "\n",
        "#Potenciacion\n",
        "a= 8\n",
        "print(a**2)\n",
        "print(a**3)\n",
        "print(a**(1/2)) # raiz cuadrada\n",
        "print(a**(1/3)) # raiz cubica\n",
        "\n"
      ],
      "metadata": {
        "colab": {
          "base_uri": "https://localhost:8080/"
        },
        "id": "1_9sxHmJxer4",
        "outputId": "a5559a45-c955-4475-b2b7-ab4795ee78d1"
      },
      "execution_count": null,
      "outputs": [
        {
          "output_type": "stream",
          "name": "stdout",
          "text": [
            "3\n",
            "3\n",
            "4\n",
            "-1.0\n",
            "0\n",
            "64\n",
            "512\n",
            "2.8284271247461903\n",
            "2.0\n"
          ]
        }
      ]
    },
    {
      "cell_type": "code",
      "source": [
        "# += toma la variable de la izquierda que tengo y la incrementa a la derecha\n",
        "a = 5\n",
        "a += 10\n",
        "print(a)\n",
        "a -= 8\n",
        "a *= 3\n",
        "a /= 2\n",
        "a **= 2 # potencia igual\n",
        "print(a)"
      ],
      "metadata": {
        "colab": {
          "base_uri": "https://localhost:8080/"
        },
        "id": "gz-ILvH8_Amu",
        "outputId": "e481240e-577a-4a4d-ea05-a1b772c34dde"
      },
      "execution_count": null,
      "outputs": [
        {
          "output_type": "stream",
          "name": "stdout",
          "text": [
            "15\n",
            "110.25\n"
          ]
        }
      ]
    },
    {
      "cell_type": "code",
      "source": [
        "# texto largo multilinea\n",
        "texto = \"\"\" ¿Qué es poesía?, dices mientras clavas\n",
        "en mi pupila tu pupila azul.\n",
        "¿Qué es poesía? ¿Y tú me lo preguntas?\n",
        "Poesía... eres tú \"\"\"\n",
        "print(texto)"
      ],
      "metadata": {
        "colab": {
          "base_uri": "https://localhost:8080/"
        },
        "id": "AySC3xPX_v1B",
        "outputId": "534863a3-110c-4a4e-89e3-4613ff0dc6e5"
      },
      "execution_count": null,
      "outputs": [
        {
          "output_type": "stream",
          "name": "stdout",
          "text": [
            " ¿Qué es poesía?, dices mientras clavas\n",
            "en mi pupila tu pupila azul.\n",
            "¿Qué es poesía? ¿Y tú me lo preguntas?\n",
            "Poesía... eres tú \n"
          ]
        }
      ]
    },
    {
      "cell_type": "markdown",
      "source": [
        "#Expresiones booleanas\n",
        "son aquellas que se evaluan como *True* o *False*. El computador no entiende las opiniones\n"
      ],
      "metadata": {
        "id": "Gs0_R9VFIfrG"
      }
    },
    {
      "cell_type": "code",
      "source": [
        "# Expresiones booleanas\n",
        "a = 3\n",
        "b = 5\n",
        "print(a==b)\n",
        "print(a !=b)\n",
        "print(a > b)\n",
        "print(a < b)\n",
        "print(a >=b)\n",
        "print(a <=b)\n"
      ],
      "metadata": {
        "colab": {
          "base_uri": "https://localhost:8080/"
        },
        "id": "fQv8bPgNI_VM",
        "outputId": "0643b210-07e5-4468-ac04-ca9f5f4fce09"
      },
      "execution_count": null,
      "outputs": [
        {
          "output_type": "stream",
          "name": "stdout",
          "text": [
            "False\n",
            "True\n",
            "False\n",
            "True\n",
            "False\n",
            "True\n"
          ]
        }
      ]
    },
    {
      "cell_type": "markdown",
      "source": [
        "##Operadores Booleanas\n",
        "se utilizan para realizar operaciones entre expreiones booleanas. Son and, or, y not\n"
      ],
      "metadata": {
        "id": "3JaYPCblJzr0"
      }
    },
    {
      "cell_type": "code",
      "source": [
        "#Operadores Booleanas\n",
        "\n",
        "a= 2\n",
        "b= 3\n",
        "# not\n",
        "d = not a == b\n",
        "c = not d\n",
        "print(d,c)\n",
        "\n",
        "# and\n",
        "e = d and not c\n",
        "print(d,c,e)\n",
        "\n",
        "#Or\n",
        "e= d or c\n",
        "print(e)"
      ],
      "metadata": {
        "colab": {
          "base_uri": "https://localhost:8080/"
        },
        "id": "503l90oWKCTm",
        "outputId": "1d721de3-d76c-490b-bbf0-5851c66e9f9c"
      },
      "execution_count": null,
      "outputs": [
        {
          "output_type": "stream",
          "name": "stdout",
          "text": [
            "True False\n",
            "True False True\n",
            "True\n"
          ]
        }
      ]
    },
    {
      "cell_type": "markdown",
      "source": [
        "#Inputs\n",
        "###Son las entradas de usuario por consola"
      ],
      "metadata": {
        "id": "aWDs3zj7OrdH"
      }
    },
    {
      "cell_type": "code",
      "source": [
        "firstname = input(\"Nombre: \")\n",
        "lastname = input(\"Apellido: \")\n",
        "fullname = firstname +' '+ lastname\n",
        "print(\"Hola,\" , fullname, \"!Bienvenido a Python!\")"
      ],
      "metadata": {
        "colab": {
          "base_uri": "https://localhost:8080/"
        },
        "id": "xTLRahj5PUeW",
        "outputId": "c55cda2a-5c5b-4789-d9b8-789e44757094"
      },
      "execution_count": null,
      "outputs": [
        {
          "output_type": "stream",
          "name": "stdout",
          "text": [
            "Nombre: Juan\n",
            "Apellido: Hernandez\n",
            "Hola, Juan Hernandez !Bienvenido a Python!\n"
          ]
        }
      ]
    },
    {
      "cell_type": "markdown",
      "source": [
        "#Ejercicios  \n"
      ],
      "metadata": {
        "id": "D2tL3t0_TWhD"
      }
    },
    {
      "cell_type": "code",
      "source": [
        "name = \"Juan Dario\"\n",
        "address = \"chechenia\"\n",
        "city = \"Monteria\"\n",
        "state = \"Colombia\"\n",
        "zip_code = \"0303\"\n",
        "phone_number = \"1234567899\"\n",
        "college_major = \"ingeniero electronico\"\n",
        "#name = input(\"ingrese su nombre: \")\n",
        "#address = input(\"ingrese su email: \")\n",
        "#city = input(\"ingrese su ciudad: \")\n",
        "#state = input(\"ingrese su estado: \")\n",
        "#zip = input(\"ingrese su zip: \")\n",
        "#phone number = input(\"ingrese su numero: \")\n",
        "#college_major = input(\"ingrese su college major \")\n",
        "message = f\"\"\"\n",
        "Datos usuario\n",
        "Nombre: {name}\n",
        "Direccion: {address}\n",
        "\"\"\"\n",
        "f\"Ciudad: {city}\\nEstado: {state}\\nCódigo Zip: {zip}\\nTeléfono: {phone_number}\\nTítulo Universitario: {college_major}\""
      ],
      "metadata": {
        "id": "fU2ZN7rGTzaK",
        "colab": {
          "base_uri": "https://localhost:8080/",
          "height": 35
        },
        "outputId": "ced5946e-a79f-41f5-e052-b9b893e08280"
      },
      "execution_count": null,
      "outputs": [
        {
          "output_type": "execute_result",
          "data": {
            "text/plain": [
              "\"Ciudad: Monteria\\nEstado: Colombia\\nCódigo Zip: <class 'zip'>\\nTeléfono: 1234567899\\nTítulo Universitario: ingeniero electronico\""
            ],
            "application/vnd.google.colaboratory.intrinsic+json": {
              "type": "string"
            }
          },
          "metadata": {},
          "execution_count": 7
        }
      ]
    },
    {
      "cell_type": "code",
      "source": [
        "#suma de 2 numeros\n",
        "a = float(input(\"Ingrese el primer numero: \"))\n",
        "b= float(input(\"Ingrese el segundo numero\"))\n",
        "c = a + b\n",
        "print(f\"la suma de {a} y {b} es {c}.\")"
      ],
      "metadata": {
        "id": "VP5RTjGkXS-J",
        "outputId": "4b982626-04f0-48b1-9c7b-20cb061230a4",
        "colab": {
          "base_uri": "https://localhost:8080/"
        }
      },
      "execution_count": null,
      "outputs": [
        {
          "output_type": "stream",
          "name": "stdout",
          "text": [
            "Ingrese el primer numero: 4\n",
            "Ingrese el segundo numero5\n",
            "la suma de 4.0 y 5.0 es 9.0.\n"
          ]
        }
      ]
    },
    {
      "cell_type": "code",
      "source": [
        "margin = 0.23\n",
        "sales = float(input(\"ingrese el monto total de las ventas: \"))\n",
        "profit = sales * margin\n",
        "print(f\"las utilidades fueron de {profit}\")"
      ],
      "metadata": {
        "id": "Whn2roKCYVMO",
        "outputId": "e45bbff6-cc6d-4321-e595-96dc4e86cd30",
        "colab": {
          "base_uri": "https://localhost:8080/"
        }
      },
      "execution_count": null,
      "outputs": [
        {
          "output_type": "stream",
          "name": "stdout",
          "text": [
            "ingrese el monto total de las ventas: 10000\n",
            "las utilidades fueron de 2300.0\n"
          ]
        }
      ]
    },
    {
      "cell_type": "code",
      "source": [
        "#TOTAL_ACRE = 43.560\n",
        "square_feet = float(input(\"insert the total number of square feet: \"))\n",
        "#total = square feet / TOTAL_ACRE\n",
        "print(f\"the total number of acres in the tract is {square_feet/43.560}\")"
      ],
      "metadata": {
        "colab": {
          "base_uri": "https://localhost:8080/"
        },
        "id": "8-PvhlV7nfw3",
        "outputId": "d04f730c-5e81-4123-86bb-cc7eb95b35f9"
      },
      "execution_count": null,
      "outputs": [
        {
          "output_type": "stream",
          "name": "stdout",
          "text": [
            "insert the total number of square feet: 4\n",
            "the total number of acres in the tract is 0.09182736455463728\n"
          ]
        }
      ]
    },
    {
      "cell_type": "code",
      "source": [
        "SPEED= 60\n",
        "TIME_1 = 5\n",
        "TIME_2 = 8\n",
        "TIME_3 = 12\n",
        "distance_1 = (TIME_1 * SPEED)\n",
        "distance_2 = (TIME_2 * SPEED)\n",
        "distance_3 = (TIME_3 * SPEED)\n",
        "print(f\"Las distacias recorridas a {SPEED} millas/horas con: \")\n",
        "print(f\"- {distance_1} millas en {TIME_1} horas: \")\n",
        "print(f\"- {distance_2} millas en {TIME_2} horas: \")\n",
        "print(f\"- {distance_3} millas en {TIME_3} horas: \")"
      ],
      "metadata": {
        "colab": {
          "base_uri": "https://localhost:8080/"
        },
        "id": "kNbOlLe9p5zl",
        "outputId": "a97e67cd-94af-4c2f-876f-f322c9e74ade"
      },
      "execution_count": null,
      "outputs": [
        {
          "output_type": "stream",
          "name": "stdout",
          "text": [
            "Las distacias recorridas a 60 millas/horas con: \n",
            "- 300 millas en 5 horas: \n",
            "- 480 millas en 8 horas: \n",
            "- 720 millas en 12 horas: \n"
          ]
        }
      ]
    },
    {
      "cell_type": "code",
      "source": [
        "TAX = 6/ 100\n",
        "item_1 = float(input(\"ingrese el valor del item_1: $\"))\n",
        "item_2 = float(input(\"ingrese el valor del item_2: $\"))\n",
        "item_3 = float(input(\"ingrese el valor del item_3: $\"))\n",
        "item_4 = float(input(\"ingrese el valor del item_4: $\"))\n",
        "item_5 = float(input(\"ingrese el valor del item_5: $\"))\n",
        "subtotal= item_1 + item_2 + item_3 + item_4 + item_5\n",
        "sales_tax= subtotal * TAX\n",
        "amount = subtotal + sales_tax\n",
        "print(\"-\" * 25)\n",
        "print(f\"subtotal: ${subtotal}\\nSales Tax: ${sales_tax}\\nTotal: ${amount}\")\n",
        "print(\"-\" * 25)"
      ],
      "metadata": {
        "colab": {
          "base_uri": "https://localhost:8080/"
        },
        "id": "VdpVuCuPqw_E",
        "outputId": "f640d005-81f2-4626-c98f-ab2c90bf92f2"
      },
      "execution_count": null,
      "outputs": [
        {
          "output_type": "stream",
          "name": "stdout",
          "text": [
            "ingrese el valor del item_1: $123\n",
            "ingrese el valor del item_2: $342\n",
            "ingrese el valor del item_3: $45\n",
            "ingrese el valor del item_4: $2455\n",
            "ingrese el valor del item_5: $4663\n",
            "-------------------------\n",
            "subtotal: $7628.0\n",
            "Sales Tax: $457.68\n",
            "Total: $8085.68\n",
            "-------------------------\n"
          ]
        }
      ]
    },
    {
      "cell_type": "markdown",
      "source": [
        "#Estructuras Selectivas\n",
        "###Ejemplo\n",
        "\n",
        "resolucion de una ecuacion de primer grado si la ecuacion es $ax + b = 0  "
      ],
      "metadata": {
        "id": "-93_LTa0zfko"
      }
    },
    {
      "cell_type": "markdown",
      "source": [
        "#Pseudocodigo"
      ],
      "metadata": {
        "id": "6lm2Uf5x-Jbt"
      }
    },
    {
      "cell_type": "code",
      "source": [
        "#Program ecuacion_axb\n",
        "#// Programa para encontrar la solucion de la ecuacion ax +  b = 0\n",
        "#Start\n",
        "  #Declare Real a, b, x\n",
        "  #Input a\n",
        "  #Input b\n",
        "  #If a != 0 then\n",
        "    #set x = -b / a\n",
        "  #Else\n",
        "    #If b != 0 then\n",
        "      #Display \"solucion imposible\"\n",
        "    #Else\n",
        "      #Display \"solucion indeterminada\"\n",
        "    #End If\n",
        "  #End If\n",
        "#stop\n",
        "\n"
      ],
      "metadata": {
        "id": "-GxaVerbySRa"
      },
      "execution_count": null,
      "outputs": []
    },
    {
      "cell_type": "code",
      "source": [
        "# Program calcular_salario\n",
        "# //Programa para calucular el salario a partir del numero de horas semananal\n",
        "# Start\n",
        "#     Declare Real horas, tarifa\n",
        "#     Declare String nombre\n",
        "#     Constant Real TASA_TARIFA_EXTRA = 0.5\n",
        "#     Constant Real IMP_BASE = 0.2\n",
        "#     Constant Real IMP_EXTRA = 0.3\n",
        "#     Input horas\n",
        "#     Input tarifa\n",
        "#     Input nombre\n",
        "#     If horas <= 35 then\n",
        "#             set salario_bruto = horas * tarifa\n",
        "#     Else\n",
        "#             set salario_bruto = tarifa * 35 + (horas-35) * tarifa * (1+TASA_TARIFA_EXTRA)\n",
        "#     End If\n",
        "      #     If  salario_bruto <= 2200 Then\n",
        "      #         set impuesto = 0\n",
        "      # else\n",
        "      #     If salario_bruto <= 2420 Then\n",
        "      #         impuesto = 220 * IMP_BASE\n",
        "      #     else\n",
        "      #         impuesto = 220 * IMP_BASE + (salario_bruto-2420) * IMP_EXTRA\n",
        "      #     End If\n",
        "      # End If\n",
        "# Stop"
      ],
      "metadata": {
        "id": "gFqNEODJ5_8P"
      },
      "execution_count": null,
      "outputs": []
    }
  ]
}