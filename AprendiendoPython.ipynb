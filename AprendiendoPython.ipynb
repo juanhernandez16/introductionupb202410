{
  "nbformat": 4,
  "nbformat_minor": 0,
  "metadata": {
    "colab": {
      "provenance": [],
      "authorship_tag": "ABX9TyNkzmihtw31svjo9aW/wWkA",
      "include_colab_link": true
    },
    "kernelspec": {
      "name": "python3",
      "display_name": "Python 3"
    },
    "language_info": {
      "name": "python"
    }
  },
  "cells": [
    {
      "cell_type": "markdown",
      "metadata": {
        "id": "view-in-github",
        "colab_type": "text"
      },
      "source": [
        "<a href=\"https://colab.research.google.com/github/juanhernandez16/introductionupb202410/blob/main/AprendiendoPython.ipynb\" target=\"_parent\"><img src=\"https://colab.research.google.com/assets/colab-badge.svg\" alt=\"Open In Colab\"/></a>"
      ]
    },
    {
      "cell_type": "markdown",
      "source": [
        "#introduccion a Python\n",
        "#Markdown\n",
        "##Fundamentos de programcion\n",
        "### Ingeniería Electrónica UPB Montería (202410)\n",
        "\n",
        "**Estudiante**\n",
        "\n",
        "*_email_*: juan.hernandez@up.edu.co\n",
        "\n",
        "`juan`\n",
        "\n",
        "```python\n",
        "a= 3\n",
        "b= 5\n",
        "c= a+b\n",
        "print (c)\n",
        "```\n",
        "\n",
        "### Salto de linea\n",
        "\n",
        "utilice `<br>` o `\\`\\\n",
        "<br/>\n",
        "y 3 asteriscos (`***`) para la linea horizontal\n",
        "***\n",
        "### Listas\n",
        "-ordenandas: con numeros\n",
        "-desordenandas: con `-` o `*`\n",
        "<br>\n",
        "Ejemplo:\n",
        "\n",
        "- leche\n",
        "\n",
        "- huevo\n",
        "\n",
        "  - carne\n",
        "\n",
        "1. pelar la papa\n",
        "2. cocinar la papa\n",
        "3. comer la papa\n",
        "\n",
        "### Enlaces (links)\n",
        "\n",
        "utilice `[texto](url)`\n",
        "\n",
        "[GITHUB](https://github.com/Mikheltodd/introductionupb202410)\n",
        "<br>\n",
        "LaTeX\n",
        "utilice el signo $\n",
        "\n",
        "ejemplo:\n",
        "\n",
        "la ecuacion que usa el voltaje $V$ en una resistencia $R$ con su corriente $I$ se conoce como la ley de Ohm:\n",
        "\n",
        "$$V=RI$$"
      ],
      "metadata": {
        "id": "fNH46F1YxfB3"
      }
    },
    {
      "cell_type": "code",
      "source": [
        "#Continuacion - operaciones con números\n",
        "\n",
        "#suma\n",
        "a=  3\n",
        "b= -4\n",
        "c= a + b\n",
        "print(a)\n",
        "\n",
        "#resta\n",
        "d= 5\n",
        "e= 7\n",
        "f= d - e\n",
        "print(a)\n",
        "\n",
        "#Multiplicacion\n",
        "a= b * c # reasignacion de variables\n",
        "print(a)\n",
        "\n",
        "# division\n",
        "a= b / a #division entera //\n",
        "print(a)\n",
        "\n",
        "#Modulo\n",
        "a= 6\n",
        "a= a % 2\n",
        "print(a)\n",
        "\n",
        "#Potenciacion\n",
        "a= 8\n",
        "print(a**2)\n",
        "print(a**3)\n",
        "print(a**(1/2)) # raiz cuadrada\n",
        "print(a**(1/3)) # raiz cubica\n",
        "\n"
      ],
      "metadata": {
        "colab": {
          "base_uri": "https://localhost:8080/"
        },
        "id": "1_9sxHmJxer4",
        "outputId": "a5559a45-c955-4475-b2b7-ab4795ee78d1"
      },
      "execution_count": null,
      "outputs": [
        {
          "output_type": "stream",
          "name": "stdout",
          "text": [
            "3\n",
            "3\n",
            "4\n",
            "-1.0\n",
            "0\n",
            "64\n",
            "512\n",
            "2.8284271247461903\n",
            "2.0\n"
          ]
        }
      ]
    },
    {
      "cell_type": "code",
      "source": [
        "# += toma la variable de la izquierda que tengo y la incrementa a la derecha\n",
        "a = 5\n",
        "a += 10\n",
        "print(a)\n",
        "a -= 8\n",
        "a *= 3\n",
        "a /= 2\n",
        "a **= 2 # potencia igual\n",
        "print(a)"
      ],
      "metadata": {
        "colab": {
          "base_uri": "https://localhost:8080/"
        },
        "id": "gz-ILvH8_Amu",
        "outputId": "e481240e-577a-4a4d-ea05-a1b772c34dde"
      },
      "execution_count": null,
      "outputs": [
        {
          "output_type": "stream",
          "name": "stdout",
          "text": [
            "15\n",
            "110.25\n"
          ]
        }
      ]
    },
    {
      "cell_type": "code",
      "source": [
        "# texto largo multilinea\n",
        "texto = \"\"\" ¿Qué es poesía?, dices mientras clavas\n",
        "en mi pupila tu pupila azul.\n",
        "¿Qué es poesía? ¿Y tú me lo preguntas?\n",
        "Poesía... eres tú \"\"\"\n",
        "print(texto)"
      ],
      "metadata": {
        "colab": {
          "base_uri": "https://localhost:8080/"
        },
        "id": "AySC3xPX_v1B",
        "outputId": "534863a3-110c-4a4e-89e3-4613ff0dc6e5"
      },
      "execution_count": null,
      "outputs": [
        {
          "output_type": "stream",
          "name": "stdout",
          "text": [
            " ¿Qué es poesía?, dices mientras clavas\n",
            "en mi pupila tu pupila azul.\n",
            "¿Qué es poesía? ¿Y tú me lo preguntas?\n",
            "Poesía... eres tú \n"
          ]
        }
      ]
    },
    {
      "cell_type": "markdown",
      "source": [
        "#Expresiones booleanas\n",
        "son aquellas que se evaluan como *True* o *False*. El computador no entiende las opiniones\n"
      ],
      "metadata": {
        "id": "Gs0_R9VFIfrG"
      }
    },
    {
      "cell_type": "code",
      "source": [
        "# Expresiones booleanas\n",
        "a = 3\n",
        "b = 5\n",
        "print(a==b)\n",
        "print(a !=b)\n",
        "print(a > b)\n",
        "print(a < b)\n",
        "print(a >=b)\n",
        "print(a <=b)\n"
      ],
      "metadata": {
        "colab": {
          "base_uri": "https://localhost:8080/"
        },
        "id": "fQv8bPgNI_VM",
        "outputId": "0643b210-07e5-4468-ac04-ca9f5f4fce09"
      },
      "execution_count": null,
      "outputs": [
        {
          "output_type": "stream",
          "name": "stdout",
          "text": [
            "False\n",
            "True\n",
            "False\n",
            "True\n",
            "False\n",
            "True\n"
          ]
        }
      ]
    },
    {
      "cell_type": "markdown",
      "source": [
        "##Operadores Booleanas\n",
        "se utilizan para realizar operaciones entre expreiones booleanas. Son and, or, y not\n"
      ],
      "metadata": {
        "id": "3JaYPCblJzr0"
      }
    },
    {
      "cell_type": "code",
      "source": [
        "#Operadores Booleanas\n",
        "\n",
        "a= 2\n",
        "b= 3\n",
        "# not\n",
        "d = not a == b\n",
        "c = not d\n",
        "print(d,c)\n",
        "\n",
        "# and\n",
        "e = d and not c\n",
        "print(d,c,e)\n",
        "\n",
        "#Or\n",
        "e= d or c\n",
        "print(e)"
      ],
      "metadata": {
        "colab": {
          "base_uri": "https://localhost:8080/"
        },
        "id": "503l90oWKCTm",
        "outputId": "1d721de3-d76c-490b-bbf0-5851c66e9f9c"
      },
      "execution_count": null,
      "outputs": [
        {
          "output_type": "stream",
          "name": "stdout",
          "text": [
            "True False\n",
            "True False True\n",
            "True\n"
          ]
        }
      ]
    },
    {
      "cell_type": "markdown",
      "source": [
        "#Inputs\n",
        "###Son las entradas de usuario por consola"
      ],
      "metadata": {
        "id": "aWDs3zj7OrdH"
      }
    },
    {
      "cell_type": "code",
      "source": [
        "firstname = input(\"Nombre: \")\n",
        "lastname = input(\"Apellido: \")\n",
        "fullname = firstname +' '+ lastname\n",
        "print(\"Hola,\" , fullname, \"!Bienvenido a Python!\")"
      ],
      "metadata": {
        "colab": {
          "base_uri": "https://localhost:8080/"
        },
        "id": "xTLRahj5PUeW",
        "outputId": "c55cda2a-5c5b-4789-d9b8-789e44757094"
      },
      "execution_count": null,
      "outputs": [
        {
          "output_type": "stream",
          "name": "stdout",
          "text": [
            "Nombre: Juan\n",
            "Apellido: Hernandez\n",
            "Hola, Juan Hernandez !Bienvenido a Python!\n"
          ]
        }
      ]
    },
    {
      "cell_type": "markdown",
      "source": [
        "#Ejercicios  \n"
      ],
      "metadata": {
        "id": "D2tL3t0_TWhD"
      }
    },
    {
      "cell_type": "code",
      "source": [
        "name = \"Juan Dario\"\n",
        "address = \"chechenia\"\n",
        "city = \"Monteria\"\n",
        "state = \"Colombia\"\n",
        "zip_code = \"0303\"\n",
        "phone_number = \"1234567899\"\n",
        "college_major = \"ingeniero electronico\"\n",
        "#name = input(\"ingrese su nombre: \")\n",
        "#address = input(\"ingrese su email: \")\n",
        "#city = input(\"ingrese su ciudad: \")\n",
        "#state = input(\"ingrese su estado: \")\n",
        "#zip = input(\"ingrese su zip: \")\n",
        "#phone number = input(\"ingrese su numero: \")\n",
        "#college_major = input(\"ingrese su college major \")\n",
        "message = f\"\"\"\n",
        "Datos usuario\n",
        "Nombre: {name}\n",
        "Direccion: {address}\n",
        "\"\"\"\n",
        "f\"Ciudad: {city}\\nEstado: {state}\\nCódigo Zip: {zip}\\nTeléfono: {phone_number}\\nTítulo Universitario: {college_major}\""
      ],
      "metadata": {
        "id": "fU2ZN7rGTzaK",
        "colab": {
          "base_uri": "https://localhost:8080/",
          "height": 35
        },
        "outputId": "ced5946e-a79f-41f5-e052-b9b893e08280"
      },
      "execution_count": null,
      "outputs": [
        {
          "output_type": "execute_result",
          "data": {
            "text/plain": [
              "\"Ciudad: Monteria\\nEstado: Colombia\\nCódigo Zip: <class 'zip'>\\nTeléfono: 1234567899\\nTítulo Universitario: ingeniero electronico\""
            ],
            "application/vnd.google.colaboratory.intrinsic+json": {
              "type": "string"
            }
          },
          "metadata": {},
          "execution_count": 7
        }
      ]
    },
    {
      "cell_type": "code",
      "source": [
        "#suma de 2 numeros\n",
        "a = float(input(\"Ingrese el primer numero: \"))\n",
        "b= float(input(\"Ingrese el segundo numero\"))\n",
        "c = a + b\n",
        "print(f\"la suma de {a} y {b} es {c}.\")"
      ],
      "metadata": {
        "id": "VP5RTjGkXS-J",
        "outputId": "4b982626-04f0-48b1-9c7b-20cb061230a4",
        "colab": {
          "base_uri": "https://localhost:8080/"
        }
      },
      "execution_count": null,
      "outputs": [
        {
          "output_type": "stream",
          "name": "stdout",
          "text": [
            "Ingrese el primer numero: 4\n",
            "Ingrese el segundo numero5\n",
            "la suma de 4.0 y 5.0 es 9.0.\n"
          ]
        }
      ]
    },
    {
      "cell_type": "code",
      "source": [
        "margin = 0.23\n",
        "sales = float(input(\"ingrese el monto total de las ventas: \"))\n",
        "profit = sales * margin\n",
        "print(f\"las utilidades fueron de {profit}\")"
      ],
      "metadata": {
        "id": "Whn2roKCYVMO",
        "outputId": "e45bbff6-cc6d-4321-e595-96dc4e86cd30",
        "colab": {
          "base_uri": "https://localhost:8080/"
        }
      },
      "execution_count": null,
      "outputs": [
        {
          "output_type": "stream",
          "name": "stdout",
          "text": [
            "ingrese el monto total de las ventas: 10000\n",
            "las utilidades fueron de 2300.0\n"
          ]
        }
      ]
    },
    {
      "cell_type": "code",
      "source": [
        "#TOTAL_ACRE = 43.560\n",
        "square_feet = float(input(\"insert the total number of square feet: \"))\n",
        "#total = square feet / TOTAL_ACRE\n",
        "print(f\"the total number of acres in the tract is {square_feet/43.560}\")"
      ],
      "metadata": {
        "colab": {
          "base_uri": "https://localhost:8080/"
        },
        "id": "8-PvhlV7nfw3",
        "outputId": "d04f730c-5e81-4123-86bb-cc7eb95b35f9"
      },
      "execution_count": null,
      "outputs": [
        {
          "output_type": "stream",
          "name": "stdout",
          "text": [
            "insert the total number of square feet: 4\n",
            "the total number of acres in the tract is 0.09182736455463728\n"
          ]
        }
      ]
    },
    {
      "cell_type": "code",
      "source": [
        "SPEED= 60\n",
        "TIME_1 = 5\n",
        "TIME_2 = 8\n",
        "TIME_3 = 12\n",
        "distance_1 = (TIME_1 * SPEED)\n",
        "distance_2 = (TIME_2 * SPEED)\n",
        "distance_3 = (TIME_3 * SPEED)\n",
        "print(f\"Las distacias recorridas a {SPEED} millas/horas con: \")\n",
        "print(f\"- {distance_1} millas en {TIME_1} horas: \")\n",
        "print(f\"- {distance_2} millas en {TIME_2} horas: \")\n",
        "print(f\"- {distance_3} millas en {TIME_3} horas: \")"
      ],
      "metadata": {
        "colab": {
          "base_uri": "https://localhost:8080/"
        },
        "id": "kNbOlLe9p5zl",
        "outputId": "a97e67cd-94af-4c2f-876f-f322c9e74ade"
      },
      "execution_count": null,
      "outputs": [
        {
          "output_type": "stream",
          "name": "stdout",
          "text": [
            "Las distacias recorridas a 60 millas/horas con: \n",
            "- 300 millas en 5 horas: \n",
            "- 480 millas en 8 horas: \n",
            "- 720 millas en 12 horas: \n"
          ]
        }
      ]
    },
    {
      "cell_type": "code",
      "source": [
        "TAX = 6/ 100\n",
        "item_1 = float(input(\"ingrese el valor del item_1: $\"))\n",
        "item_2 = float(input(\"ingrese el valor del item_2: $\"))\n",
        "item_3 = float(input(\"ingrese el valor del item_3: $\"))\n",
        "item_4 = float(input(\"ingrese el valor del item_4: $\"))\n",
        "item_5 = float(input(\"ingrese el valor del item_5: $\"))\n",
        "subtotal= item_1 + item_2 + item_3 + item_4 + item_5\n",
        "sales_tax= subtotal * TAX\n",
        "amount = subtotal + sales_tax\n",
        "print(\"-\" * 25)\n",
        "print(f\"subtotal: ${subtotal}\\nSales Tax: ${sales_tax}\\nTotal: ${amount}\")\n",
        "print(\"-\" * 25)"
      ],
      "metadata": {
        "colab": {
          "base_uri": "https://localhost:8080/"
        },
        "id": "VdpVuCuPqw_E",
        "outputId": "f640d005-81f2-4626-c98f-ab2c90bf92f2"
      },
      "execution_count": null,
      "outputs": [
        {
          "output_type": "stream",
          "name": "stdout",
          "text": [
            "ingrese el valor del item_1: $123\n",
            "ingrese el valor del item_2: $342\n",
            "ingrese el valor del item_3: $45\n",
            "ingrese el valor del item_4: $2455\n",
            "ingrese el valor del item_5: $4663\n",
            "-------------------------\n",
            "subtotal: $7628.0\n",
            "Sales Tax: $457.68\n",
            "Total: $8085.68\n",
            "-------------------------\n"
          ]
        }
      ]
    },
    {
      "cell_type": "markdown",
      "source": [
        "#Estructuras Selectivas\n",
        "###Ejemplo\n",
        "\n",
        "resolucion de una ecuacion de primer grado si la ecuacion es $ax + b = 0  "
      ],
      "metadata": {
        "id": "-93_LTa0zfko"
      }
    },
    {
      "cell_type": "markdown",
      "source": [
        "#Pseudocodigo"
      ],
      "metadata": {
        "id": "6lm2Uf5x-Jbt"
      }
    },
    {
      "cell_type": "code",
      "source": [
        "#Program ecuacion_axb\n",
        "#// Programa para encontrar la solucion de la ecuacion ax +  b = 0\n",
        "#Start\n",
        "  #Declare Real a, b, x\n",
        "  #Input a\n",
        "  #Input b\n",
        "  #If a != 0 then\n",
        "    #set x = -b / a\n",
        "  #Else\n",
        "    #If b != 0 then\n",
        "      #Display \"solucion imposible\"\n",
        "    #Else\n",
        "      #Display \"solucion indeterminada\"\n",
        "    #End If\n",
        "  #End If\n",
        "#stop\n"
      ],
      "metadata": {
        "id": "-GxaVerbySRa"
      },
      "execution_count": null,
      "outputs": []
    },
    {
      "cell_type": "code",
      "source": [
        "# Sales Tax\n",
        "# Design a program that will ask the user to enter the amount of a purchase. The\n",
        "# program should then compute the state and county sales tax. Assume the state\n",
        "# sales tax is 4 percent and the county sales tax is 2 percent. The program should display\n",
        "# the amount of the purchase, the state sales tax, the county sales tax, the total\n",
        "# sales tax, and the total of the sale (which is the sum of the amount of purchase plus\n",
        "# the total sales tax).\n",
        "# Hint: Use the value 0.02 to represent 2 percent, and 0.04 to represent 4 percent.\n",
        "\n",
        "# Program sales_tax\n",
        "# Start\n",
        "#   Declare Real purchase, state_sales_tax, county_sales_tax, total_sales_tax, total_sale\n",
        "#   Constant Real STATE_TAX = 0.04\n",
        "#   Constant Real COUNTY_TAX = 0.02\n",
        "\n",
        "#   Input purchase\n",
        "#   Set state_sales_tax = purchase  * STATE_TAX\n",
        "#   Set county_sales_tax = purchase  * COUNTY_TAX\n",
        "#   Set total_sales_tax = state_sales_tax + county_sales_tax\n",
        "#   Set total_sale = purchase + total_sales_tax\n",
        "#   Display purchase, state_sales_tax, county_sales_tax, total_sales_tax, total_sale\n",
        "# Stop\n",
        "\n",
        "\n",
        "STATE_TAX = 0.04\n",
        "COUNTY_TAX = 0.02\n",
        "purchase = float(input(\"Ingrese el valor de las compras: $\"))\n",
        "state_sales_tax = purchase  * STATE_TAX\n",
        "county_sales_tax = purchase  * COUNTY_TAX\n",
        "total_sales_tax = state_sales_tax + county_sales_tax\n",
        "total_sale = purchase + total_sales_tax\n",
        "print(\"-\" * 20)\n",
        "print(f\"Total Compra: ${purchase}\\nImpuestos de Estado: ${state_sales_tax}\\nImpuesto de Condado: ${county_sales_tax}\\nTotal Impuestos: ${total_sales_tax}\\nVenta Total: ${total_sale}\")\n",
        "print(\"-\" * 20)\n"
      ],
      "metadata": {
        "id": "gFqNEODJ5_8P",
        "outputId": "197c24c3-ea70-4930-c2d2-6ece019fe611",
        "colab": {
          "base_uri": "https://localhost:8080/"
        }
      },
      "execution_count": 12,
      "outputs": [
        {
          "output_type": "stream",
          "name": "stdout",
          "text": [
            "Ingrese el valor de las compras: $2314\n",
            "--------------------\n",
            "Total Compra: $2314.0\n",
            "Impuestos de Estado: $92.56\n",
            "Impuesto de Condado: $46.28\n",
            "Total Impuestos: $138.84\n",
            "Venta Total: $2452.84\n",
            "--------------------\n"
          ]
        }
      ]
    },
    {
      "cell_type": "code",
      "source": [
        "a = 3\n",
        "b = 4\n",
        "c = 5\n",
        "\n",
        "if a > b:\n",
        "  if a > c:\n",
        "    mayor = a\n",
        "else:\n",
        "    if b > c:\n",
        "        mayor = b\n",
        "    else:\n",
        "        mayor = c\n",
        "print(f\"El numero mayor es {mayor}.\")"
      ],
      "metadata": {
        "colab": {
          "base_uri": "https://localhost:8080/"
        },
        "id": "6LiypDEDQ6mZ",
        "outputId": "113c23f4-0c5e-48d8-dfad-b629bbd293e9"
      },
      "execution_count": null,
      "outputs": [
        {
          "output_type": "stream",
          "name": "stdout",
          "text": [
            "El numero mayor es 5.\n"
          ]
        }
      ]
    },
    {
      "cell_type": "markdown",
      "source": [
        "#Condicionales"
      ],
      "metadata": {
        "id": "DnLhhwXFV4L-"
      }
    },
    {
      "cell_type": "code",
      "source": [
        "# Program ecuacion_axb\n",
        "# // Programa para encontrar la solución de la ecuación ax+b=0\n",
        "# Start\n",
        "# \tDeclare Real a, b, x\n",
        "# \tInput a\n",
        "# \tInput b\n",
        "# \tIf a != 0 Then\n",
        "# \t\tSet x = -b / a\n",
        "# \t\tDisplay x\n",
        "# \tElse\n",
        "# \t\tIf b != 0 Then\n",
        "# \t\t\tDisplay 'Solución Imposible'\n",
        "# \t\tElse\n",
        "# \t\t\tDisplay 'Solución Indeterminada'\n",
        "# \t\tEnd If\n",
        "# \tEnd If\n",
        "# Stop\n",
        "\n",
        "# a = 0\n",
        "# b = 0\n",
        "\n",
        "a = float(input(\"Ingrese el valor de a: \"))\n",
        "b = float(input(\"Ingrese el valor de b: \"))\n",
        "\n",
        "if a != 0:\n",
        "  x = -b / a\n",
        "  print(x)\n",
        "else:\n",
        "  if b != 0:\n",
        "    print(\"Solución imposible.\")\n",
        "  else:\n",
        "    print(\"Solución indeterminada.\")"
      ],
      "metadata": {
        "id": "TKXCp_2eVx1-",
        "outputId": "58928b5d-72a8-45bb-d1b9-c410b98e253f",
        "colab": {
          "base_uri": "https://localhost:8080/"
        }
      },
      "execution_count": 3,
      "outputs": [
        {
          "output_type": "stream",
          "name": "stdout",
          "text": [
            "Ingrese el valor de a: 10\n",
            "Ingrese el valor de b: 23\n",
            "-2.3\n"
          ]
        }
      ]
    },
    {
      "cell_type": "code",
      "source": [
        "# Program calcular_salario\n",
        "# // Programa para calcular el salario a partir del número de horas semanal\n",
        "# Start\n",
        "# \tDeclare Real horas, horas_extra, tarifa, tarifa_extra, salario_bruto, impuesto, salario_neto\n",
        "# \tDeclare String nombre\n",
        "# \tConstant Real TASA_TARIFA_EXTRA = 0.5\n",
        "# \tConstant Real IMP_BASE = 0.2\n",
        "# \tConstant Real IMP_EXTRA = 0.3\n",
        "# \tInput horas\n",
        "# \tInput tarifa\n",
        "# \tInput nombre\n",
        "# \tIf horas <= 35 Then\n",
        "# \t\tSet salario_bruto = horas * tarifa\n",
        "# \tElse\n",
        "# \t\tSet horas_extra = horas - 35\n",
        "# \t\tSet tarifa_extra = tarifa * (1 + TASA_TARIFA_EXTRA)\n",
        "# \t\tSet salario_bruto = tarifa * 35 + horas_extra * tarifa_extra\n",
        "# \tEnd If\n",
        "# \tIf salario_bruto <= 2200 Then\n",
        "# \t\tSet impuesto = 0\n",
        "# \tElse\n",
        "# \t\tIf salario_bruto <= 2420 Then\n",
        "# \t\t\tSet impuesto = 220 * IMP_BASE\n",
        "# \t\tElse\n",
        "# \t\t\tSet impuesto = 220 * IMP_BASE + (salario_bruto - 2420) * IMP_EXTRA\n",
        "# \t\tEnd If\n",
        "# \tEnd If\n",
        "# \tSet salario_neto = salario_bruto + impuesto\n",
        "# \tDisplay 'El trabajador ', nombre, ' debe recibir $', salario_neto\n",
        "# Stop\n",
        "\n",
        "\n",
        "TASA_TARIFA_EXTRA = 0.5\n",
        "IMP_BASE = 0.2\n",
        "IMP_EXTRA = 0.3\n",
        "\n",
        "# horas = 35\n",
        "# tarifa = 75\n",
        "# nombre = \"Mikheltodd\"\n",
        "\n",
        "horas = float(input(\"Ingrese el número de horas: \"))\n",
        "tarifa = float(input(\"Ingrese el valor de la tarifa: \"))\n",
        "nombre = input(\"Ingrese el nombre del trabajador: \")\n",
        "\n",
        "if horas <= 35:\n",
        "  salario_bruto = horas * tarifa\n",
        "else:\n",
        "  horas_extra = horas - 35\n",
        "  tarifa_extra = tarifa * (1 + TASA_TARIFA_EXTRA)\n",
        "  salario_bruto = tarifa * 35 + horas_extra * tarifa_extra\n",
        "\n",
        "if salario_bruto <= 2200:\n",
        "  impuesto = 0\n",
        "else:\n",
        "  if salario_bruto <= 2420:\n",
        "    impuesto = 220 * IMP_BASE\n",
        "  else:\n",
        "    impuesto = 220 * IMP_BASE + (salario_bruto - 2420) * IMP_EXTRA\n",
        "\n",
        "salario_neto = salario_bruto + impuesto\n",
        "print(f\"El trabajador {nombre} debe recibir ${salario_neto}.\")"
      ],
      "metadata": {
        "id": "g0OBEkqkWBqp",
        "outputId": "1d35d948-35e9-4bb6-a7cc-ce7ad075e73a",
        "colab": {
          "base_uri": "https://localhost:8080/"
        }
      },
      "execution_count": 4,
      "outputs": [
        {
          "output_type": "stream",
          "name": "stdout",
          "text": [
            "Ingrese el número de horas: 45\n",
            "Ingrese el valor de la tarifa: 566\n",
            "Ingrese el nombre del trabajador: Juan Dario\n",
            "El trabajador Juan Dario debe recibir $36108.0.\n"
          ]
        }
      ]
    },
    {
      "cell_type": "code",
      "source": [
        "# a = 3\n",
        "# b = 4\n",
        "# c = 5\n",
        "\n",
        "a = int(input(\"Ingrese el primer valor: \"))\n",
        "b = int(input(\"Ingrese el segundo valor: \"))\n",
        "c = int(input(\"Ingrese el tercer valor: \"))\n",
        "\n",
        "if a > b:\n",
        "  if a > c:\n",
        "    mayor = a\n",
        "  else:\n",
        "    mayor = c\n",
        "else:\n",
        "  if b > c:\n",
        "    mayor = b\n",
        "  else:\n",
        "    mayor = c\n",
        "print(f\"El número mayor es {mayor}.\")"
      ],
      "metadata": {
        "id": "f6L94GnxWPt6",
        "outputId": "3c66929d-e121-4fc5-dbe8-21106cafbd16",
        "colab": {
          "base_uri": "https://localhost:8080/"
        }
      },
      "execution_count": 5,
      "outputs": [
        {
          "output_type": "stream",
          "name": "stdout",
          "text": [
            "Ingrese el primer valor: 3\n",
            "Ingrese el segundo valor: 6\n",
            "Ingrese el tercer valor: 2\n",
            "El número mayor es 6.\n"
          ]
        }
      ]
    },
    {
      "cell_type": "code",
      "source": [
        "# a = 5\n",
        "# b = 5\n",
        "# c = 10\n",
        "\n",
        "a = int(input(\"Ingrese el primer valor: \"))\n",
        "b = int(input(\"Ingrese el segundo valor: \"))\n",
        "c = int(input(\"Ingrese el tercer valor: \"))\n",
        "\n",
        "if a > b:\n",
        "  if b > c:\n",
        "    print(a, b, c)\n",
        "  else:\n",
        "    if c > a:\n",
        "      print(c, a, b)\n",
        "    else:\n",
        "      print(a, c, b)\n",
        "else:\n",
        "  if a > c:\n",
        "    print(b, a, c)\n",
        "  else:\n",
        "    if c > b:\n",
        "      print(c, b, a)\n",
        "    else:\n",
        "      print(b, c, a)"
      ],
      "metadata": {
        "id": "Z-gGuI-cWYy5",
        "outputId": "80712aaa-8864-45f0-ad1d-1153eef1e8b0",
        "colab": {
          "base_uri": "https://localhost:8080/"
        }
      },
      "execution_count": 6,
      "outputs": [
        {
          "output_type": "stream",
          "name": "stdout",
          "text": [
            "Ingrese el primer valor: 4\n",
            "Ingrese el segundo valor: 42\n",
            "Ingrese el tercer valor: 3\n",
            "42 4 3\n"
          ]
        }
      ]
    },
    {
      "cell_type": "code",
      "source": [
        "# Determinar el precio de un tiquete de ida y vuelta en avión, conociendo la distancia a recorrer y una tarifa por km.\n",
        "# La tarifa tiene un descuento del 30% si la estancia es mayor a 7 días y la distancia es superior a 800 km\n",
        "\n",
        "# distancia = 900\n",
        "# tarifa = 1000\n",
        "# t = 8\n",
        "DISCOUNT = 0.3\n",
        "distancia = int(input(\"Ingrese la distancia en km: \"))\n",
        "tarifa = float(input(\"Ingrese la tarifa por km ($): \"))\n",
        "t = int(input(\"Ingrese el número de días de su estancia: \"))\n",
        "\n",
        "precio = 2 * distancia * tarifa\n",
        "if t > 7 and distancia > 800:\n",
        "  precio *= (1 - DISCOUNT)\n",
        "\n",
        "print(f\"El precio del tiquete ida y vuelta es ${precio:,}\")"
      ],
      "metadata": {
        "id": "lqh1mD3dWqA2",
        "outputId": "7929c702-772f-4f77-c445-837aacf75b0d",
        "colab": {
          "base_uri": "https://localhost:8080/"
        }
      },
      "execution_count": 7,
      "outputs": [
        {
          "output_type": "stream",
          "name": "stdout",
          "text": [
            "Ingrese la distancia en km: 323\n",
            "Ingrese la tarifa por km ($): 1242\n",
            "Ingrese el número de días de su estancia: 5\n",
            "El precio del tiquete ida y vuelta es $802,332.0\n"
          ]
        }
      ]
    },
    {
      "cell_type": "code",
      "source": [
        "# Program determinar_cuadrante\n",
        "# Start\n",
        "# \tDeclare Real x, y\n",
        "\n",
        "# \tInput x\n",
        "# \tInput y\n",
        "\n",
        "# \tIf x == 0 OR y == 0 Then\n",
        "# \t\tDisplay \"Coordenada sobre uno o más ejes.\"\n",
        "# \tElse\n",
        "# \t\tIf x > 0 Then\n",
        "# \t\t\tIf y > 0 Then\n",
        "# \t\t\t\tDisplay \"Primer Cuadrante.\"\n",
        "# \t\t\tElse\n",
        "# \t\t\t\tDisplay \"Cuarto Cuadrante.\"\n",
        "# \t\t\tEnd If\n",
        "# \t\tElse\n",
        "# \t\t\tIf y > 0 Then\n",
        "# \t\t\t\tDisplay \"Segundi Cuadrante.\"\n",
        "# \t\t\tElse\n",
        "# \t\t\t\tDisplay \"Tercer Cuadrante.\"\n",
        "# \t\t\tEnd If\n",
        "# \t\tEnd If\n",
        "# \tEnd If\n",
        "# Stop\n",
        "\n",
        "x = float(input(\"Ingrese coordenada x: \"))\n",
        "y = float(input(\"Ingrese coordenada y: \"))\n",
        "\n",
        "# x = 3\n",
        "# y = -2\n",
        "\n",
        "if x == 0 or y == 0:\n",
        "  print(\"Coordenada sobre uno o más ejes.\")\n",
        "else:\n",
        "  if x > 0:\n",
        "    if y > 0:\n",
        "      print(\"Primer Cuadrante.\")\n",
        "    else:\n",
        "      print(\"Cuarto Cuadrante.\")\n",
        "  else:\n",
        "    if y > 0:\n",
        "      print(\"Segundo Cuadrante.\")\n",
        "    else:\n",
        "      print(\"Tercer Cuadrante.\")"
      ],
      "metadata": {
        "id": "XhHPvyVOW4gE",
        "outputId": "08f41479-32e6-48b2-9e69-7c98c81bcd0f",
        "colab": {
          "base_uri": "https://localhost:8080/"
        }
      },
      "execution_count": 8,
      "outputs": [
        {
          "output_type": "stream",
          "name": "stdout",
          "text": [
            "Ingrese coordenada x: 3\n",
            "Ingrese coordenada y: 4\n",
            "Primer Cuadrante.\n"
          ]
        }
      ]
    },
    {
      "cell_type": "code",
      "source": [
        "# Program distancia_mayor_que\n",
        "# Start\n",
        "# \tDeclare Real x1, x2, y1, y2, d, setpoint\n",
        "# \tInput x1\n",
        "# \tInput y1\n",
        "# \tInput x2\n",
        "# \tInput y2\n",
        "# \tInput setpoint\n",
        "\n",
        "# \tSet d = ((x2 - x1) ^ 2 + (y2 - y1) ^ 2) ^ (1 / 2)\n",
        "\n",
        "# \tIf d > setpoint Then\n",
        "# \t\tDisplay \"La distancia entre los puntos es MAYOR que el setpoint.\"\n",
        "# \tElse\n",
        "# \t\tDisplay \"La distancia entre los puntos es MENOR que el setpoint.\"\n",
        "# \tEnd If\n",
        "# Stop\n",
        "\n",
        "x1 = float(input(\"Ingrese coordenada x del primer punto: \"))\n",
        "y1 = float(input(\"Ingrese coordenada y del primer punto: \"))\n",
        "x2 = float(input(\"Ingrese coordenada x del segundo punto: \"))\n",
        "y2 = float(input(\"Ingrese coordenada x del segundo punto: \"))\n",
        "setpoint = float(input(\"Ingrese distancia de comparación: \"))\n",
        "\n",
        "# x1 = 2\n",
        "# y1 = -3\n",
        "# x2 = 0\n",
        "# y2 = 3\n",
        "# setpoint = 10\n",
        "\n",
        "d = ((x2 - x1) ** 2 + (y2 - y1) ** 2) ** (1 / 2)\n",
        "\n",
        "if d > setpoint:\n",
        "\tprint(\"La distancia entre los puntos es MAYOR que el setpoint.\")\n",
        "else:\n",
        "\tprint(\"La distancia entre los puntos es MENOR que el setpoint.\")"
      ],
      "metadata": {
        "id": "FNXPQpNOXF8K",
        "outputId": "bfbc4f6c-874a-4169-bd3b-bbb98986ca82",
        "colab": {
          "base_uri": "https://localhost:8080/"
        }
      },
      "execution_count": 9,
      "outputs": [
        {
          "output_type": "stream",
          "name": "stdout",
          "text": [
            "Ingrese coordenada x del primer punto: 4\n",
            "Ingrese coordenada y del primer punto: 5\n",
            "Ingrese coordenada x del segundo punto: 20\n",
            "Ingrese coordenada x del segundo punto: 67\n",
            "Ingrese distancia de comparación: 62\n",
            "La distancia entre los puntos es MAYOR que el setpoint.\n"
          ]
        }
      ]
    },
    {
      "cell_type": "code",
      "source": [
        "# Program calcular_factura\n",
        "# Start\n",
        "\n",
        "# \tDeclare Real h, consumo_base, tarifa, costo_unitario, consumo, total\n",
        "# \tDeclare String estrato\n",
        "\n",
        "# \tInput h\n",
        "# \tInput consumo\n",
        "# \tInput estrato\n",
        "# \tInput costo_unitario\n",
        "\n",
        "# \tIf h > 1000 Then\n",
        "# \t\tSet consumo_base = 130\n",
        "# \tElse\n",
        "# \t\tSet consumo_base = 173\n",
        "# \tEnd If\n",
        "\n",
        "# \tSelect estrato\n",
        "# \tCase '4':\n",
        "# \t\tSet tarifa = costo_unitario\n",
        "# \tCase '5', '6', 'comercial':\n",
        "# \t\tSet tarifa = costo_unitario * 1.2\n",
        "# \tCase '1':\n",
        "# \t\tSet tarifa = costo_unitario * 0.4\n",
        "# \tCase '2':\n",
        "# \t\tSet tarifa = costo_unitario * 0.5\n",
        "# \tCase '3':\n",
        "# \t\tSet tarifa = costo_unitario * 0.85\n",
        "# \tDefault:\n",
        "# \t\tDisplay \"Estrato no válido.\"\n",
        "# \t\tSet tarifa = 0\n",
        "# \tEnd Select\n",
        "\n",
        "# \tIf consumo < consumo_basico Then\n",
        "# \t\tSet total = tarifa * consumo\n",
        "# \tElse\n",
        "# \t\tSet total = consumo_basico * tarifa + (consumo - consumo_basico) * costo_unitario\n",
        "# \tEnd If\n",
        "\n",
        "# \tDisplay total\n",
        "# Stop\n",
        "h = float(input(\"Ingrese la altura sobre el nivel del mar en metros: \"))\n",
        "consumo = float(input(\"Ingrese el consumo en kWh: \"))\n",
        "print(\"Seleccione el estrato: \")\n",
        "print(\"1. Estrato 1\\n2. Estrato 2\\n3. Estrato 3\\n4. Estrato 4\\n5. Estrato 5\\n6. Estrato 6\\n7. Comercial\")\n",
        "estrato = int(input(\"\"))\n",
        "costo_unitario = float(input(\"Ingrese el costo unitario en $: \"))\n",
        "\n",
        "# h = 1200\n",
        "# consumo = 180\n",
        "# estrato = '3'\n",
        "# costo_unitario = 500\n",
        "\n",
        "if h > 1000:\n",
        "  consumo_base = 130\n",
        "else:\n",
        "  consumo_base = 173\n",
        "\n",
        "if\testrato == 4:\n",
        "\ttarifa = costo_unitario\n",
        "elif estrato == 5 or estrato == 6 or estrato == 7:\n",
        "  tarifa = costo_unitario * 1.2\n",
        "elif estrato == 1:\n",
        "\ttarifa = costo_unitario * 0.4\n",
        "elif estrato == 2:\n",
        "\ttarifa = costo_unitario * 0.5\n",
        "elif estrato == 3:\n",
        "\ttarifa = costo_unitario * 0.85\n",
        "else:\n",
        "\tprint(\"Estrato no válido.\")\n",
        "\ttarifa = 0\n",
        "\n",
        "\n",
        "if consumo < consumo_base:\n",
        "\ttotal = tarifa * consumo\n",
        "else:\n",
        "\ttotal = consumo_base * tarifa + (consumo - consumo_base) * costo_unitario\n",
        "\n",
        "print(f\"Total: ${total}\")\n",
        ""
      ],
      "metadata": {
        "id": "jhabgX8KXuOU",
        "outputId": "f3fbfd39-104c-48f2-8e4b-ec6b9552ccf8",
        "colab": {
          "base_uri": "https://localhost:8080/"
        }
      },
      "execution_count": 11,
      "outputs": [
        {
          "output_type": "stream",
          "name": "stdout",
          "text": [
            "Ingrese la altura sobre el nivel del mar en metros: 123\n",
            "Ingrese el consumo en kWh: 34\n",
            "Seleccione el estrato: \n",
            "1. Estrato 1\n",
            "2. Estrato 2\n",
            "3. Estrato 3\n",
            "4. Estrato 4\n",
            "5. Estrato 5\n",
            "6. Estrato 6\n",
            "7. Comercial\n",
            "2\n",
            "Ingrese el costo unitario en $: 352\n",
            "Total: $5984.0\n"
          ]
        }
      ]
    },
    {
      "cell_type": "markdown",
      "source": [
        "#Importar una libreria en python"
      ],
      "metadata": {
        "id": "3dmkTq-42lRv"
      }
    },
    {
      "cell_type": "code",
      "source": [
        "import random\n",
        "\n",
        "print(\"Seleccione una opción:\\n1. Cara\\n2. Sello\")\n",
        "bet = int(input())\n",
        "x = random.choice([1, 2])\n",
        "# if x == bet:\n",
        "#   print(\"Ganaste\")\n",
        "# else:\n",
        "#   print(\"Perdiste\")\n",
        "\n",
        "print(\"Ganaste\") if  x == bet else print(\"Perdiste\")"
      ],
      "metadata": {
        "id": "qNREsUnRk4yt",
        "outputId": "50c6189e-fc2f-47f4-96b5-99de7598f17c",
        "colab": {
          "base_uri": "https://localhost:8080/"
        }
      },
      "execution_count": 10,
      "outputs": [
        {
          "output_type": "stream",
          "name": "stdout",
          "text": [
            "Seleccione una opción:\n",
            "1. Cara\n",
            "2. Sello\n",
            "2\n",
            "Ganaste\n"
          ]
        }
      ]
    },
    {
      "cell_type": "code",
      "source": [
        "# sum_x = 0\n",
        "# message = \"\"\"\n",
        "# Bienvenido al programa Calcular suma.\n",
        "# Ingrese los numeros cuando se le solicite.\n",
        "# Para finalizae,ingrese 0.\n",
        "# Ingrese el primer valor:\n",
        "# \"\"\"\n",
        "# print(message)\n",
        "# x = float(input())\n"
      ],
      "metadata": {
        "id": "ZlP22mEe5WKA"
      },
      "execution_count": null,
      "outputs": []
    },
    {
      "cell_type": "markdown",
      "source": [],
      "metadata": {
        "id": "PvGqgHFp3Ldm"
      }
    },
    {
      "cell_type": "markdown",
      "source": [
        "#Ciclos"
      ],
      "metadata": {
        "id": "06tvFe0CV9EE"
      }
    },
    {
      "cell_type": "code",
      "source": [
        "# Program calcular_suma_usuario\n",
        "# Start\n",
        "# \tDeclare Real sum_x, x\n",
        "# \tSet sum_x = 0\n",
        "# \tDisplay \"Bienvenido al programa Calcular Suma.\"\n",
        "# \tDisplay \"Ingrese los números cuando se le solicite.\"\n",
        "# \tDisplay \"Para finalizar, ingrese 0.\"\n",
        "# \tDisplay \"Ingrese el primer valor: \"\n",
        "# \tInput x\n",
        "# \tSet sum_x = sum_x + x\n",
        "# \tWhile x != 0 Then\n",
        "# \t\tDisplay \"Ingrese el siguiente valor: \"\n",
        "# \t\tInput x\n",
        "# \t\tSet sum_x = sum_x + x\n",
        "# \tEnd While\n",
        "# \tDisplay \"La suma es \", sum_x\n",
        "# Stop\n",
        "\n",
        "sum_x = 0\n",
        "message = \"\"\"\n",
        "Bienvenido al programa Calcular Suma.\n",
        "Ingrese los números cuando se le solicite.\n",
        "Para finalizar, ingrese 0.\n",
        "Ingrese el primer valor:\n",
        "\"\"\"\n",
        "print(message)\n",
        "x = float(input())\n",
        "sum_x += x\n",
        "\n",
        "while x != 0:\n",
        "  print(\"Ingrese el siguiente valor: \")\n",
        "  x = float(input())\n",
        "  sum_x +=  x\n",
        "\n",
        "print(f\"La suma es {sum_x}\")6\n"
      ],
      "metadata": {
        "id": "zWqf97IHVE38",
        "outputId": "908ddf9c-4168-4bb2-f171-231a2d38216e",
        "colab": {
          "base_uri": "https://localhost:8080/"
        }
      },
      "execution_count": 1,
      "outputs": [
        {
          "output_type": "stream",
          "name": "stdout",
          "text": [
            "\n",
            "Bienvenido al programa Calcular Suma.\n",
            "Ingrese los números cuando se le solicite.\n",
            "Para finalizar, ingrese 0.\n",
            "Ingrese el primer valor:\n",
            "\n",
            "3\n",
            "Ingrese el siguiente valor: \n",
            "5\n",
            "Ingrese el siguiente valor: \n",
            "6\n",
            "Ingrese el siguiente valor: \n",
            "9\n",
            "Ingrese el siguiente valor: \n",
            "5\n",
            "Ingrese el siguiente valor: \n",
            "0\n",
            "La suma es 28.0\n"
          ]
        }
      ]
    },
    {
      "cell_type": "code",
      "source": [
        "# Program calcular_promedio_ponderado\n",
        "# Start\n",
        "# \tDeclare Integer N\n",
        "# \tDeclare Real nota, peso, prom, sum_prod, sum_pes\n",
        "\n",
        "# \tDisplay \"Ingrese el número de notas: \"\n",
        "# \tInput N\n",
        "# \tSet sum_prod = 0\n",
        "# \tSet sum_pes = 0\n",
        "# \tFor i = 1 To N\n",
        "# \t\tDisplay \"Ingrese nota: \"\n",
        "# \t\tInput nota\n",
        "# \t\tDisplay \"Ingrese peso: \"\n",
        "# \t\tInput peso\n",
        "# \t\tSet sum_prod += nota * peso / 100\n",
        "# \t\tSet sum_pes += peso / 100\n",
        "# \tEnd For\n",
        "# \tIf sum_pes != 0 Then\n",
        "# \t\tSet prom = sum_prod / sum_pes\n",
        "# \t\tDisplay prom\n",
        "# \t\tIf prom > 3 Then\n",
        "# \t\t\tDisplay \"Va ganando.\"\n",
        "# \t\tElse\n",
        "# \t\t\tDisplay \"Va perdiendo.\"\n",
        "# \t\tEnd If\n",
        "# \tElse\n",
        "# \t\tDisplay \"No se puede calcular el promedio.\"\n",
        "# \tEnd if\n",
        "# Stop\n",
        "\n",
        "N = int(input(\"Ingrese el número de notas: \"))\n",
        "sum_prod = 0\n",
        "sum_pes = 0\n",
        "message = \"Resumen:\\n\"\n",
        "for i in range(N):\n",
        "  nota = float(input(\"Ingrese nota: \"))\n",
        "  peso = float(input(\"Ingrese peso: \"))\n",
        "  sum_prod += nota * peso / 100\n",
        "  sum_pes += peso / 100\n",
        "  message += f\"Nota: {nota}\\tPeso: {peso}%\\n\"\n",
        "\n",
        "if sum_pes != 0:\n",
        "  prom = sum_prod / sum_pes\n",
        "  # print(prom)\n",
        "  message += f\"Peso: {sum_pes * 100:.2f}%\\tPromedio: {prom:.2f}\"\n",
        "  print(message)\n",
        "  print(\"Va ganando\") if prom >= 3 else print(\"Va perdiendo\")\n",
        "else:\n",
        "  print(\"No se puede calcular el promedio.\")\n",
        ""
      ],
      "metadata": {
        "id": "BxMDZV5_VVya",
        "outputId": "21aee243-e4e7-4759-91a9-6d35f5923066",
        "colab": {
          "base_uri": "https://localhost:8080/"
        }
      },
      "execution_count": 2,
      "outputs": [
        {
          "output_type": "stream",
          "name": "stdout",
          "text": [
            "Ingrese el número de notas: 3\n",
            "Ingrese nota: 20\n",
            "Ingrese peso: 4.75\n",
            "Ingrese nota: 10\n",
            "Ingrese peso: 35\n",
            "Ingrese nota: 5\n",
            "Ingrese peso: 50\n",
            "Resumen:\n",
            "Nota: 20.0\tPeso: 4.75%\n",
            "Nota: 10.0\tPeso: 35.0%\n",
            "Nota: 5.0\tPeso: 50.0%\n",
            "Peso: 89.75%\tPromedio: 7.74\n",
            "Va ganando\n"
          ]
        }
      ]
    }
  ]
}