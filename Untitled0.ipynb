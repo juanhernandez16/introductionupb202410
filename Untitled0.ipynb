{
  "nbformat": 4,
  "nbformat_minor": 0,
  "metadata": {
    "colab": {
      "provenance": [],
      "authorship_tag": "ABX9TyNyt+QsWJ+KSRa6zXI0+khG",
      "include_colab_link": true
    },
    "kernelspec": {
      "name": "python3",
      "display_name": "Python 3"
    },
    "language_info": {
      "name": "python"
    }
  },
  "cells": [
    {
      "cell_type": "markdown",
      "metadata": {
        "id": "view-in-github",
        "colab_type": "text"
      },
      "source": [
        "<a href=\"https://colab.research.google.com/github/juanhernandez16/introductionupb202410/blob/main/Untitled0.ipynb\" target=\"_parent\"><img src=\"https://colab.research.google.com/assets/colab-badge.svg\" alt=\"Open In Colab\"/></a>"
      ]
    },
    {
      "cell_type": "markdown",
      "source": [
        "#introduccion a Python\n",
        "##Fundamentos de programcion\n",
        "### Ingeniería Electrónica UPB Montería (202410)\n",
        "\n",
        "**Estudiante**\n",
        "\n",
        "*_email_*: juan.hernandez@up.edu.co\n",
        "\n",
        "`juan`\n",
        "\n",
        "```python\n",
        "a= 3\n",
        "b= 5\n",
        "c= a+b\n",
        "print (c)\n",
        "```\n",
        "\n",
        "### Salto de linea\n",
        "\n",
        "utilice `<br>` o `\\`\\\n",
        "<br/>\n",
        "y 3 asteriscos (`***`) para la linea horizontal\n",
        "***\n",
        "### Listas\n",
        "-ordenandas: con numeros\n",
        "-desordenandas: con `-` o `*`\n",
        "<br>\n",
        "Ejemplo:\n",
        "\n",
        "- leche\n",
        "\n",
        "- huevo\n",
        "\n",
        "  - carne\n",
        "\n",
        "1. pelar la papa\n",
        "2. cocinar la papa\n",
        "3. comer la papa\n",
        "\n",
        "### Enlaces (links)\n",
        "\n",
        "utilice `[texto](url)`\n",
        "\n",
        "[GITHUB](https://github.com/Mikheltodd/introductionupb202410)\n",
        "<br>\n",
        "LaTeX\n",
        "utilice el signo $\n",
        "\n",
        "ejemplo:\n",
        "\n",
        "la ecuacion que usa el voltaje $V$ en una resistencia $R$ con su corriente $I$ se conoce como la ley de Ohm:\n",
        "\n",
        "$$V=RI$$"
      ],
      "metadata": {
        "id": "fNH46F1YxfB3"
      }
    },
    {
      "cell_type": "code",
      "source": [],
      "metadata": {
        "id": "1_9sxHmJxer4"
      },
      "execution_count": null,
      "outputs": []
    }
  ]
}