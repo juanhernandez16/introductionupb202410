{
  "nbformat": 4,
  "nbformat_minor": 0,
  "metadata": {
    "colab": {
      "provenance": [],
      "authorship_tag": "ABX9TyNNbI4u5/BK+9mqrCXa3U+Z",
      "include_colab_link": true
    },
    "kernelspec": {
      "name": "python3",
      "display_name": "Python 3"
    },
    "language_info": {
      "name": "python"
    }
  },
  "cells": [
    {
      "cell_type": "markdown",
      "metadata": {
        "id": "view-in-github",
        "colab_type": "text"
      },
      "source": [
        "<a href=\"https://colab.research.google.com/github/juanhernandez16/introductionupb202410/blob/main/Untitled0.ipynb\" target=\"_parent\"><img src=\"https://colab.research.google.com/assets/colab-badge.svg\" alt=\"Open In Colab\"/></a>"
      ]
    },
    {
      "cell_type": "markdown",
      "source": [
        "#introduccion a Python\n",
        "#Markdown\n",
        "##Fundamentos de programcion\n",
        "### Ingeniería Electrónica UPB Montería (202410)\n",
        "\n",
        "**Estudiante**\n",
        "\n",
        "*_email_*: juan.hernandez@up.edu.co\n",
        "\n",
        "`juan`\n",
        "\n",
        "```python\n",
        "a= 3\n",
        "b= 5\n",
        "c= a+b\n",
        "print (c)\n",
        "```\n",
        "\n",
        "### Salto de linea\n",
        "\n",
        "utilice `<br>` o `\\`\\\n",
        "<br/>\n",
        "y 3 asteriscos (`***`) para la linea horizontal\n",
        "***\n",
        "### Listas\n",
        "-ordenandas: con numeros\n",
        "-desordenandas: con `-` o `*`\n",
        "<br>\n",
        "Ejemplo:\n",
        "\n",
        "- leche\n",
        "\n",
        "- huevo\n",
        "\n",
        "  - carne\n",
        "\n",
        "1. pelar la papa\n",
        "2. cocinar la papa\n",
        "3. comer la papa\n",
        "\n",
        "### Enlaces (links)\n",
        "\n",
        "utilice `[texto](url)`\n",
        "\n",
        "[GITHUB](https://github.com/Mikheltodd/introductionupb202410)\n",
        "<br>\n",
        "LaTeX\n",
        "utilice el signo $\n",
        "\n",
        "ejemplo:\n",
        "\n",
        "la ecuacion que usa el voltaje $V$ en una resistencia $R$ con su corriente $I$ se conoce como la ley de Ohm:\n",
        "\n",
        "$$V=RI$$"
      ],
      "metadata": {
        "id": "fNH46F1YxfB3"
      }
    },
    {
      "cell_type": "code",
      "source": [
        "#Continuacion - operaciones con números\n",
        "\n",
        "#suma\n",
        "a=  3\n",
        "b= -4\n",
        "c= a + b\n",
        "print(a)\n",
        "\n",
        "#resta\n",
        "d= 5\n",
        "e= 7\n",
        "f= d - e\n",
        "print(a)\n",
        "\n",
        "#Multiplicacion\n",
        "a= b * c # reasignacion de variables\n",
        "print(a)\n",
        "\n",
        "# division\n",
        "a= b / a #division entera //\n",
        "print(a)\n",
        "\n",
        "#Modulo\n",
        "a= 6\n",
        "a= a % 2\n",
        "print(a)\n",
        "\n",
        "#Potenciacion\n",
        "a= 8\n",
        "print(a**2)\n",
        "print(a**3)\n",
        "print(a**(1/2)) # raiz cuadrada\n",
        "print(a**(1/3)) # raiz cubica\n",
        "\n"
      ],
      "metadata": {
        "colab": {
          "base_uri": "https://localhost:8080/"
        },
        "id": "1_9sxHmJxer4",
        "outputId": "a5559a45-c955-4475-b2b7-ab4795ee78d1"
      },
      "execution_count": 2,
      "outputs": [
        {
          "output_type": "stream",
          "name": "stdout",
          "text": [
            "3\n",
            "3\n",
            "4\n",
            "-1.0\n",
            "0\n",
            "64\n",
            "512\n",
            "2.8284271247461903\n",
            "2.0\n"
          ]
        }
      ]
    },
    {
      "cell_type": "code",
      "source": [
        "#Cocatenear\n",
        "firstname = \"Juan\"\n",
        "lastname = \"Hernandez\"\n",
        "fullname = lastname + \" , \" + firstname\n",
        "print(fullname)"
      ],
      "metadata": {
        "colab": {
          "base_uri": "https://localhost:8080/"
        },
        "id": "zgJtHuxx-iV1",
        "outputId": "5f940aef-b335-48b2-9568-4f271593a0d9"
      },
      "execution_count": 3,
      "outputs": [
        {
          "output_type": "stream",
          "name": "stdout",
          "text": [
            "Hernandez , Juan\n"
          ]
        }
      ]
    },
    {
      "cell_type": "code",
      "source": [
        "# += toma la variable de la izquierda que tengo y la incrementa a la derecha\n",
        "a = 5\n",
        "a += 10\n",
        "print(a)\n",
        "a -= 8\n",
        "a *= 3\n",
        "a /= 2\n",
        "a **= 2 # potencia igual\n",
        "print(a)"
      ],
      "metadata": {
        "colab": {
          "base_uri": "https://localhost:8080/"
        },
        "id": "gz-ILvH8_Amu",
        "outputId": "e481240e-577a-4a4d-ea05-a1b772c34dde"
      },
      "execution_count": 5,
      "outputs": [
        {
          "output_type": "stream",
          "name": "stdout",
          "text": [
            "15\n",
            "110.25\n"
          ]
        }
      ]
    },
    {
      "cell_type": "code",
      "source": [
        "# texto largo multilinea\n",
        "texto = \"\"\" ¿Qué es poesía?, dices mientras clavas\n",
        "en mi pupila tu pupila azul.\n",
        "¿Qué es poesía? ¿Y tú me lo preguntas?\n",
        "Poesía... eres tú \"\"\"\n",
        "print(texto)"
      ],
      "metadata": {
        "colab": {
          "base_uri": "https://localhost:8080/"
        },
        "id": "AySC3xPX_v1B",
        "outputId": "534863a3-110c-4a4e-89e3-4613ff0dc6e5"
      },
      "execution_count": 6,
      "outputs": [
        {
          "output_type": "stream",
          "name": "stdout",
          "text": [
            " ¿Qué es poesía?, dices mientras clavas\n",
            "en mi pupila tu pupila azul.\n",
            "¿Qué es poesía? ¿Y tú me lo preguntas?\n",
            "Poesía... eres tú \n"
          ]
        }
      ]
    }
  ]
}