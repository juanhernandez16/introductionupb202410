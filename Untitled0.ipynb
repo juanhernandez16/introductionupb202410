{
  "nbformat": 4,
  "nbformat_minor": 0,
  "metadata": {
    "colab": {
      "provenance": [],
      "authorship_tag": "ABX9TyMhGk/Lr+zdTlC+csjg2TOr",
      "include_colab_link": true
    },
    "kernelspec": {
      "name": "python3",
      "display_name": "Python 3"
    },
    "language_info": {
      "name": "python"
    }
  },
  "cells": [
    {
      "cell_type": "markdown",
      "metadata": {
        "id": "view-in-github",
        "colab_type": "text"
      },
      "source": [
        "<a href=\"https://colab.research.google.com/github/juanhernandez16/introductionupb202410/blob/main/Untitled0.ipynb\" target=\"_parent\"><img src=\"https://colab.research.google.com/assets/colab-badge.svg\" alt=\"Open In Colab\"/></a>"
      ]
    },
    {
      "cell_type": "markdown",
      "source": [
        "#introduccion a Python\n",
        "#Markdown\n",
        "##Fundamentos de programcion\n",
        "### Ingeniería Electrónica UPB Montería (202410)\n",
        "\n",
        "**Estudiante**\n",
        "\n",
        "*_email_*: juan.hernandez@up.edu.co\n",
        "\n",
        "`juan`\n",
        "\n",
        "```python\n",
        "a= 3\n",
        "b= 5\n",
        "c= a+b\n",
        "print (c)\n",
        "```\n",
        "\n",
        "### Salto de linea\n",
        "\n",
        "utilice `<br>` o `\\`\\\n",
        "<br/>\n",
        "y 3 asteriscos (`***`) para la linea horizontal\n",
        "***\n",
        "### Listas\n",
        "-ordenandas: con numeros\n",
        "-desordenandas: con `-` o `*`\n",
        "<br>\n",
        "Ejemplo:\n",
        "\n",
        "- leche\n",
        "\n",
        "- huevo\n",
        "\n",
        "  - carne\n",
        "\n",
        "1. pelar la papa\n",
        "2. cocinar la papa\n",
        "3. comer la papa\n",
        "\n",
        "### Enlaces (links)\n",
        "\n",
        "utilice `[texto](url)`\n",
        "\n",
        "[GITHUB](https://github.com/Mikheltodd/introductionupb202410)\n",
        "<br>\n",
        "LaTeX\n",
        "utilice el signo $\n",
        "\n",
        "ejemplo:\n",
        "\n",
        "la ecuacion que usa el voltaje $V$ en una resistencia $R$ con su corriente $I$ se conoce como la ley de Ohm:\n",
        "\n",
        "$$V=RI$$"
      ],
      "metadata": {
        "id": "fNH46F1YxfB3"
      }
    },
    {
      "cell_type": "code",
      "source": [
        "#Continuacion - operaciones con números\n",
        "\n",
        "#suma\n",
        "a=  3\n",
        "b= -4\n",
        "c= a + b\n",
        "print(a)\n",
        "\n",
        "#resta\n",
        "d= 5\n",
        "e= 7\n",
        "f= d - e\n",
        "print(a)\n",
        "\n",
        "#Multiplicacion\n",
        "a= b * c # reasignacion de variables\n",
        "print(a)\n",
        "\n",
        "# division\n",
        "a= b / a #division entera //\n",
        "print(a)\n",
        "\n",
        "#Modulo\n",
        "a= 6\n",
        "a= a % 2\n",
        "print(a)\n",
        "\n",
        "#Potenciacion\n",
        "a= 8\n",
        "print(a**2)\n",
        "print(a**3)\n",
        "print(a**(1/2)) # raiz cuadrada\n",
        "print(a**(1/3)) # raiz cubica\n",
        "\n"
      ],
      "metadata": {
        "colab": {
          "base_uri": "https://localhost:8080/"
        },
        "id": "1_9sxHmJxer4",
        "outputId": "a5559a45-c955-4475-b2b7-ab4795ee78d1"
      },
      "execution_count": null,
      "outputs": [
        {
          "output_type": "stream",
          "name": "stdout",
          "text": [
            "3\n",
            "3\n",
            "4\n",
            "-1.0\n",
            "0\n",
            "64\n",
            "512\n",
            "2.8284271247461903\n",
            "2.0\n"
          ]
        }
      ]
    },
    {
      "cell_type": "code",
      "source": [
        "#Cocatenear\n",
        "firstname = \"Juan\"\n",
        "lastname = \"Hernandez\"\n",
        "fullname = lastname + \" , \" + firstname\n",
        "print(fullname)"
      ],
      "metadata": {
        "colab": {
          "base_uri": "https://localhost:8080/"
        },
        "id": "zgJtHuxx-iV1",
        "outputId": "5f940aef-b335-48b2-9568-4f271593a0d9"
      },
      "execution_count": null,
      "outputs": [
        {
          "output_type": "stream",
          "name": "stdout",
          "text": [
            "Hernandez , Juan\n"
          ]
        }
      ]
    },
    {
      "cell_type": "code",
      "source": [
        "# += toma la variable de la izquierda que tengo y la incrementa a la derecha\n",
        "a = 5\n",
        "a += 10\n",
        "print(a)\n",
        "a -= 8\n",
        "a *= 3\n",
        "a /= 2\n",
        "a **= 2 # potencia igual\n",
        "print(a)"
      ],
      "metadata": {
        "colab": {
          "base_uri": "https://localhost:8080/"
        },
        "id": "gz-ILvH8_Amu",
        "outputId": "e481240e-577a-4a4d-ea05-a1b772c34dde"
      },
      "execution_count": null,
      "outputs": [
        {
          "output_type": "stream",
          "name": "stdout",
          "text": [
            "15\n",
            "110.25\n"
          ]
        }
      ]
    },
    {
      "cell_type": "code",
      "source": [
        "# texto largo multilinea\n",
        "texto = \"\"\" ¿Qué es poesía?, dices mientras clavas\n",
        "en mi pupila tu pupila azul.\n",
        "¿Qué es poesía? ¿Y tú me lo preguntas?\n",
        "Poesía... eres tú \"\"\"\n",
        "print(texto)"
      ],
      "metadata": {
        "colab": {
          "base_uri": "https://localhost:8080/"
        },
        "id": "AySC3xPX_v1B",
        "outputId": "534863a3-110c-4a4e-89e3-4613ff0dc6e5"
      },
      "execution_count": null,
      "outputs": [
        {
          "output_type": "stream",
          "name": "stdout",
          "text": [
            " ¿Qué es poesía?, dices mientras clavas\n",
            "en mi pupila tu pupila azul.\n",
            "¿Qué es poesía? ¿Y tú me lo preguntas?\n",
            "Poesía... eres tú \n"
          ]
        }
      ]
    },
    {
      "cell_type": "markdown",
      "source": [
        "#Expresiones booleanas\n",
        "son aquellas que se evaluan como *True* o *False*. El computador no entiende las opiniones\n"
      ],
      "metadata": {
        "id": "Gs0_R9VFIfrG"
      }
    },
    {
      "cell_type": "code",
      "source": [
        "# Expresiones booleanas\n",
        "a = 3\n",
        "b = 5\n",
        "print(a==b)\n",
        "print(a !=b)\n",
        "print(a > b)\n",
        "print(a < b)\n",
        "print(a >=b)\n",
        "print(a <=b)\n"
      ],
      "metadata": {
        "colab": {
          "base_uri": "https://localhost:8080/"
        },
        "id": "fQv8bPgNI_VM",
        "outputId": "0643b210-07e5-4468-ac04-ca9f5f4fce09"
      },
      "execution_count": 1,
      "outputs": [
        {
          "output_type": "stream",
          "name": "stdout",
          "text": [
            "False\n",
            "True\n",
            "False\n",
            "True\n",
            "False\n",
            "True\n"
          ]
        }
      ]
    },
    {
      "cell_type": "markdown",
      "source": [
        "##Operadores Booleanas\n",
        "se utilizan para realizar operaciones entre expreiones booleanas. Son and, or, y not\n"
      ],
      "metadata": {
        "id": "3JaYPCblJzr0"
      }
    },
    {
      "cell_type": "code",
      "source": [
        "#Operadores Booleanas\n",
        "\n",
        "a= 2\n",
        "b= 3\n",
        "# not\n",
        "d = not a == b\n",
        "c = not d\n",
        "print(d,c)\n",
        "\n",
        "# and\n",
        "e = d and not c\n",
        "print(d,c,e)\n",
        "\n",
        "#Or\n",
        "e= d or c\n",
        "print(e)"
      ],
      "metadata": {
        "colab": {
          "base_uri": "https://localhost:8080/"
        },
        "id": "503l90oWKCTm",
        "outputId": "1d721de3-d76c-490b-bbf0-5851c66e9f9c"
      },
      "execution_count": 10,
      "outputs": [
        {
          "output_type": "stream",
          "name": "stdout",
          "text": [
            "True False\n",
            "True False True\n",
            "True\n"
          ]
        }
      ]
    },
    {
      "cell_type": "markdown",
      "source": [
        "#Inputs\n",
        "###Son las entradas de usuario por consola"
      ],
      "metadata": {
        "id": "aWDs3zj7OrdH"
      }
    },
    {
      "cell_type": "code",
      "source": [
        "firstname = input(\"Nombre: \")\n",
        "lastname = input(\"Apellido: \")\n",
        "fullname = firstname +' '+ lastname\n",
        "print(\"Hola,\" , fullname, \"!Bienvenido a Python!\")"
      ],
      "metadata": {
        "colab": {
          "base_uri": "https://localhost:8080/"
        },
        "id": "xTLRahj5PUeW",
        "outputId": "c55cda2a-5c5b-4789-d9b8-789e44757094"
      },
      "execution_count": 14,
      "outputs": [
        {
          "output_type": "stream",
          "name": "stdout",
          "text": [
            "Nombre: Juan\n",
            "Apellido: Hernandez\n",
            "Hola, Juan Hernandez !Bienvenido a Python!\n"
          ]
        }
      ]
    },
    {
      "cell_type": "markdown",
      "source": [
        "#Ejercicios  \n"
      ],
      "metadata": {
        "id": "D2tL3t0_TWhD"
      }
    },
    {
      "cell_type": "code",
      "source": [
        "name = \"Juan Dario\"\n",
        "address = \"chechenia\"\n",
        "city = \"Monteria\"\n",
        "state = \"Colombia\"\n",
        "zip = \"0303\"\n",
        "phone number = \"1234567899\"\n",
        "college_major = \"ingeniero electronico\"\n",
        "\n",
        "#name = input(\"ingrese su nombre: \")\n",
        "#address = input(\"ingrese su email: \")\n",
        "#city = input(\"ingrese su ciudad: \")\n",
        "#state = input(\"ingrese su estado: \")\n",
        "#zip = input(\"ingrese su zip: \")\n",
        "#phone number = input(\"ingrese su numero: \")\n",
        "#college, major = input(\"ingrese su college major \")\n",
        "\n",
        "message = f\"\"\"\n",
        "Datos del usuario\n",
        "Nombre: {name}\n",
        "Direccion: {address}\n",
        "Ciudad: {city}\n",
        "Estado: {state}\n",
        "Codigo Zip: {zip}\n",
        "Telefono: {phone number}\n",
        "Titulo Universitario: {college_major}"
      ],
      "metadata": {
        "id": "fU2ZN7rGTzaK"
      },
      "execution_count": null,
      "outputs": []
    },
    {
      "cell_type": "code",
      "source": [
        "#suma de 2 numeros\n",
        "a = float(input(\"Ingrese el primer numero: \"))\n",
        "b= float(input(\"Ingrese el segundo numero\"))\n",
        "c = a + b\n",
        "print(f\"la suma de {a} y {b} es {c}.\")"
      ],
      "metadata": {
        "colab": {
          "base_uri": "https://localhost:8080/"
        },
        "id": "VP5RTjGkXS-J",
        "outputId": "4b982626-04f0-48b1-9c7b-20cb061230a4"
      },
      "execution_count": 18,
      "outputs": [
        {
          "output_type": "stream",
          "name": "stdout",
          "text": [
            "Ingrese el primer numero: 4\n",
            "Ingrese el segundo numero5\n",
            "la suma de 4.0 y 5.0 es 9.0.\n"
          ]
        }
      ]
    },
    {
      "cell_type": "code",
      "source": [
        "margin = 0.23\n",
        "sales = float(input(\"ingrese el monto total de las ventas: \"))\n",
        "profit = sales * margin\n",
        "print(f\"las utilidades fueron de {profit}\")"
      ],
      "metadata": {
        "colab": {
          "base_uri": "https://localhost:8080/"
        },
        "id": "Whn2roKCYVMO",
        "outputId": "e45bbff6-cc6d-4321-e595-96dc4e86cd30"
      },
      "execution_count": 21,
      "outputs": [
        {
          "output_type": "stream",
          "name": "stdout",
          "text": [
            "ingrese el monto total de las ventas: 10000\n",
            "las utilidades fueron de 2300.0\n"
          ]
        }
      ]
    }
  ]
}